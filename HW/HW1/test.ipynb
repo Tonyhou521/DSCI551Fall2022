{
 "cells": [
  {
   "cell_type": "code",
   "execution_count": 1,
   "metadata": {},
   "outputs": [],
   "source": [
    "import pandas as pd\n",
    "import numpy as np\n",
    "import sys\n",
    "import re\n",
    "\n",
    "\n",
    "df = pd.read_csv('cars.csv')\n",
    "## extracting keywords from CarName column by splitting the string with space, - and ()\n",
    "keywords = df['CarName'].str.split(' |-|\\(|\\)', expand=False)\n",
    "for i in keywords:\n",
    "    for eachword in i:\n",
    "        eachword.strip('')\n",
    "        if eachword == '':\n",
    "            i.remove(eachword)\n",
    "\n",
    "keywords_cleaned = []\n",
    "for i in keywords:\n",
    "    keywords_lower = []\n",
    "    for eachword in i:\n",
    "        eachword = eachword.lower()\n",
    "        keywords_lower.append(eachword)\n",
    "    keywords_cleaned.append(keywords_lower)\n",
    "\n",
    "##concatenate the keywords_cleaned list into df\n",
    "df['keywords'] = keywords_cleaned\n",
    "keywords_series = pd.Series(keywords_cleaned)\n",
    "\n",
    "\n",
    "\n",
    "## flatten keywords_series\n",
    "keywords_series_flatten = keywords_series.explode()\n",
    "\n",
    "## only keep the unique keywords from keywords_series_flatten  \n",
    "keywords_series_flatten_unique = keywords_series_flatten.unique()\n",
    "\n",
    "## for every item in keywords_series_flatten_unique, if it exists in df['keywords'], record the car_ID\n",
    "## create a dictionary with key as keywords and value as car_ID\n",
    "keywords_dict = {}\n",
    "for i in keywords_series_flatten_unique:\n",
    "    car_ID = []\n",
    "    for j in range(len(df['keywords'])):\n",
    "        if i in df['keywords'][j]:\n",
    "            car_ID.append(df['car_ID'][j])\n",
    "    keywords_dict[i] = car_ID\n",
    "\n",
    "\n"
   ]
  }
 ],
 "metadata": {
  "kernelspec": {
   "display_name": "Python 3.9.7 ('base')",
   "language": "python",
   "name": "python3"
  },
  "language_info": {
   "codemirror_mode": {
    "name": "ipython",
    "version": 3
   },
   "file_extension": ".py",
   "mimetype": "text/x-python",
   "name": "python",
   "nbconvert_exporter": "python",
   "pygments_lexer": "ipython3",
   "version": "3.9.12"
  },
  "orig_nbformat": 4,
  "vscode": {
   "interpreter": {
    "hash": "7de5bec207a4a0c09eeabee9c312cdc0112c246a8372ce03b4a0f42f75a8172e"
   }
  }
 },
 "nbformat": 4,
 "nbformat_minor": 2
}
